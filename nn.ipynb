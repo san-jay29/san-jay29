{
  "nbformat": 4,
  "nbformat_minor": 0,
  "metadata": {
    "colab": {
      "provenance": [],
      "authorship_tag": "ABX9TyNArb67U53JiNJiI8WlaODP",
      "include_colab_link": true
    },
    "kernelspec": {
      "name": "python3",
      "display_name": "Python 3"
    },
    "language_info": {
      "name": "python"
    }
  },
  "cells": [
    {
      "cell_type": "markdown",
      "metadata": {
        "id": "view-in-github",
        "colab_type": "text"
      },
      "source": [
        "<a href=\"https://colab.research.google.com/github/san-jay29/san-jay29/blob/main/nn.ipynb\" target=\"_parent\"><img src=\"https://colab.research.google.com/assets/colab-badge.svg\" alt=\"Open In Colab\"/></a>"
      ]
    },
    {
      "cell_type": "code",
      "source": [
        "import numpy as np\n",
        "\n",
        "X = np.array([[0, 0],\n",
        "              [0, 1],\n",
        "              [1, 0],\n",
        "              [1, 1]])\n",
        "\n",
        "y = np.array([[0],\n",
        "              [1],\n",
        "              [1],\n",
        "              [0]])\n",
        "\n",
        "def sigmoid(x):\n",
        "    return 1 / (1 + np.exp(-x))\n",
        "\n",
        "def sigmoid_derivative(x):\n",
        "    return x * (1 - x)\n",
        "\n",
        "\n",
        "input_size = 2\n",
        "hidden_size = 2\n",
        "output_size = 1\n",
        "learning_rate = 0.1\n",
        "epochs = 10000\n",
        "\n",
        "np.random.seed(1)\n",
        "W1 = np.random.randn(input_size, hidden_size)\n",
        "b1 = np.zeros((1, hidden_size))\n",
        "W2 = np.random.randn(hidden_size, output_size)\n",
        "b2 = np.zeros((1, output_size))\n",
        "\n",
        "for epoch in range(epochs):\n",
        "    z1 = np.dot(X, W1) + b1\n",
        "    a1 = sigmoid(z1)\n",
        "    z2 = np.dot(a1, W2) + b2\n",
        "    a2 = sigmoid(z2)\n",
        "\n",
        "    loss = np.mean((y - a2) ** 2)\n",
        "\n",
        "    d_loss_a2 = 2 * (a2 - y)\n",
        "    d_a2_z2 = sigmoid_derivative(a2)\n",
        "    d_z2_W2 = a1\n",
        "\n",
        "    dW2 = np.dot(d_z2_W2.T, d_loss_a2 * d_a2_z2)\n",
        "    db2 = np.sum(d_loss_a2 * d_a2_z2, axis=0, keepdims=True)\n",
        "\n",
        "    d_z2_a1 = W2\n",
        "    d_a1_z1 = sigmoid_derivative(a1)\n",
        "    d_z1_W1 = X\n",
        "\n",
        "    dW1 = np.dot(d_z1_W1.T, np.dot(d_loss_a2 * d_a2_z2, d_z2_a1.T) * d_a1_z1)\n",
        "    db1 = np.sum(np.dot(d_loss_a2 * d_a2_z2, d_z2_a1.T) * d_a1_z1, axis=0, keepdims=True)\n",
        "\n",
        "\n",
        "    W2 -= learning_rate * dW2\n",
        "    b2 -= learning_rate * db2\n",
        "    W1 -= learning_rate * dW1\n",
        "    b1 -= learning_rate * db1\n",
        "\n",
        "    if epoch % 1000 == 0:\n",
        "        print(f\"Epoch {epoch}, Loss: {loss:.4f}\")\n",
        "\n",
        "print(\"\\nFinal predictions:\")\n",
        "print(np.round(a2))\n"
      ],
      "metadata": {
        "colab": {
          "base_uri": "https://localhost:8080/"
        },
        "id": "xHnsQgSYikd2",
        "outputId": "aca4164c-b2b2-46c3-f781-3193fe2b41e1"
      },
      "execution_count": 15,
      "outputs": [
        {
          "output_type": "stream",
          "name": "stdout",
          "text": [
            "Epoch 0, Loss: 0.2567\n",
            "Epoch 1000, Loss: 0.1760\n",
            "Epoch 2000, Loss: 0.1389\n",
            "Epoch 3000, Loss: 0.0212\n",
            "Epoch 4000, Loss: 0.0063\n",
            "Epoch 5000, Loss: 0.0035\n",
            "Epoch 6000, Loss: 0.0023\n",
            "Epoch 7000, Loss: 0.0018\n",
            "Epoch 8000, Loss: 0.0014\n",
            "Epoch 9000, Loss: 0.0012\n",
            "\n",
            "Final predictions:\n",
            "[[0.]\n",
            " [1.]\n",
            " [1.]\n",
            " [0.]]\n"
          ]
        }
      ]
    }
  ]
}